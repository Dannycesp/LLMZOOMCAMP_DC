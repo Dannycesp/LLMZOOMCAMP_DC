{
 "cells": [
  {
   "cell_type": "code",
   "execution_count": 32,
   "id": "2a44f212-e77c-4a1e-ae1c-2017bb3c36c2",
   "metadata": {},
   "outputs": [],
   "source": [
    "#!pip install mistralai"
   ]
  },
  {
   "cell_type": "code",
   "execution_count": 33,
   "id": "572c1cea-8c85-4612-b677-75c4e3ab5912",
   "metadata": {},
   "outputs": [],
   "source": [
    "import openai\n",
    "from mistralai import Mistral\n"
   ]
  },
  {
   "cell_type": "code",
   "execution_count": 34,
   "id": "091b9467-ca43-4eef-9a9f-9f6a57361f6c",
   "metadata": {},
   "outputs": [],
   "source": [
    "\n",
    "#api_key = MISTRAL_API_KEY\n",
    "#client = Mistral('MISTRAL_API_KEY')# #client = OpenAI() \n"
   ]
  },
  {
   "cell_type": "code",
   "execution_count": 35,
   "id": "2f6bdba4-8337-4637-bbb7-c6c627dff9c8",
   "metadata": {},
   "outputs": [],
   "source": [
    "import os\n"
   ]
  },
  {
   "cell_type": "code",
   "execution_count": 36,
   "id": "3267d5c0-f20b-4990-b24a-ac77b30090ce",
   "metadata": {},
   "outputs": [],
   "source": [
    "api_key = os.environ['MISTRAL_API_KEY']"
   ]
  },
  {
   "cell_type": "code",
   "execution_count": 37,
   "id": "011b51dd-367d-4673-affd-e1227c3e7e38",
   "metadata": {},
   "outputs": [],
   "source": [
    "client = Mistral(api_key)"
   ]
  },
  {
   "cell_type": "code",
   "execution_count": null,
   "id": "362d29a7-fde6-44db-99e1-6fd08138457a",
   "metadata": {},
   "outputs": [],
   "source": []
  },
  {
   "cell_type": "code",
   "execution_count": 38,
   "id": "448c9de1-3a84-4c78-9623-fdc9a5dc5f71",
   "metadata": {},
   "outputs": [],
   "source": [
    "model=\"open-mistral-nemo-2407\"\n"
   ]
  },
  {
   "cell_type": "code",
   "execution_count": 39,
   "id": "3a8d6244-7bbc-4f47-9abe-965e02b3fd07",
   "metadata": {},
   "outputs": [],
   "source": [
    "response = client.chat.complete(\n",
    "    model=\"open-mistral-nemo-2407\",\n",
    "    messages=[{\"role\":\"user\", \"content\": \"is it too late to join the course?\"}]\n",
    ")\n"
   ]
  },
  {
   "cell_type": "code",
   "execution_count": 40,
   "id": "b91f81fe-c7c1-4ad6-b398-daff3ac288a0",
   "metadata": {},
   "outputs": [
    {
     "data": {
      "text/plain": [
       "\"It's never too late to join a course! However, the best time to join depends on several factors:\\n\\n1. **Course Start Date**: Many courses have specific start dates. If the course has already begun, you might miss out on some initial content, but you can usually catch up. Some platforms offer self-paced courses where you can start anytime.\\n\\n2. **Course Format**: Some courses are live and interactive, while others are pre-recorded and self-paced. Live courses might have missed sessions that you can't make up, while self-paced courses are more flexible.\\n\\n3. **Course Policies**: Some platforms or institutions have policies about late enrollment. They might charge a late fee, require you to start from a specific module, or have other rules.\\n\\n4. **Your Learning Goals**: If you're eager to learn the material and can catch up quickly, it might not be too late. However, if the course is a prerequisite for another course or program, you might need to wait for the next session.\\n\\nTo know for sure, contact the course provider or instructor. They can give you the most accurate information based on the specific course and its policies. Here are a few things you might want to ask:\\n\\n- Has the course started yet? If so, what have I missed?\\n- Can I still join the course? If so, what are the next steps?\\n- Are there any late fees or other policies I should know about?\\n- Can I catch up on missed material? If so, how?\""
      ]
     },
     "execution_count": 40,
     "metadata": {},
     "output_type": "execute_result"
    }
   ],
   "source": [
    "response.choices[0].message.content"
   ]
  },
  {
   "cell_type": "code",
   "execution_count": null,
   "id": "06b8520a-0aec-4629-96d7-e28f904188d4",
   "metadata": {},
   "outputs": [],
   "source": []
  }
 ],
 "metadata": {
  "kernelspec": {
   "display_name": "Python 3 (ipykernel)",
   "language": "python",
   "name": "python3"
  },
  "language_info": {
   "codemirror_mode": {
    "name": "ipython",
    "version": 3
   },
   "file_extension": ".py",
   "mimetype": "text/x-python",
   "name": "python",
   "nbconvert_exporter": "python",
   "pygments_lexer": "ipython3",
   "version": "3.10.12"
  }
 },
 "nbformat": 4,
 "nbformat_minor": 5
}
